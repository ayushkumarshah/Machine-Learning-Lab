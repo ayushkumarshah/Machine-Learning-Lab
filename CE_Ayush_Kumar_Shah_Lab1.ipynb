{
 "cells": [
  {
   "cell_type": "markdown",
   "metadata": {},
   "source": [
    "# Getting started\n",
    "\n"
   ]
  },
  {
   "cell_type": "raw",
   "metadata": {
    "raw_mimetype": "text/markdown"
   },
   "source": [
    "Introduction to NumPy, SciPy, and matplotlib\n",
    "Installing Python\n",
    "Chewing data efficiently with NumPy and intelligently with SciPy\n",
    "Learning NumPy\n",
    "Indexing\n",
    "Handling nonexisting values\n",
    "Comparing the runtime\n",
    "Learning SciPy\n",
    "Reading in the data\n",
    "Preprocessing and cleaning the data\n",
    "Choosing the right model and learning algorithm"
   ]
  },
  {
   "cell_type": "markdown",
   "metadata": {},
   "source": [
    "### Learning NumPy"
   ]
  },
  {
   "cell_type": "code",
   "execution_count": 1,
   "metadata": {},
   "outputs": [],
   "source": [
    "import numpy"
   ]
  },
  {
   "cell_type": "code",
   "execution_count": 2,
   "metadata": {},
   "outputs": [
    {
     "data": {
      "text/plain": [
       "'1.15.1'"
      ]
     },
     "execution_count": 2,
     "metadata": {},
     "output_type": "execute_result"
    }
   ],
   "source": [
    "numpy.version.full_version"
   ]
  },
  {
   "cell_type": "code",
   "execution_count": 3,
   "metadata": {},
   "outputs": [],
   "source": [
    "from numpy import *"
   ]
  },
  {
   "cell_type": "code",
   "execution_count": 4,
   "metadata": {},
   "outputs": [],
   "source": [
    "import numpy as np"
   ]
  },
  {
   "cell_type": "code",
   "execution_count": 5,
   "metadata": {},
   "outputs": [
    {
     "data": {
      "text/plain": [
       "array([0, 1, 2, 3, 4, 5])"
      ]
     },
     "execution_count": 5,
     "metadata": {},
     "output_type": "execute_result"
    }
   ],
   "source": [
    "a=np.array([0,1,2,3,4,5])\n",
    "a\n"
   ]
  },
  {
   "cell_type": "code",
   "execution_count": 6,
   "metadata": {},
   "outputs": [
    {
     "data": {
      "text/plain": [
       "1"
      ]
     },
     "execution_count": 6,
     "metadata": {},
     "output_type": "execute_result"
    }
   ],
   "source": [
    "a.ndim"
   ]
  },
  {
   "cell_type": "code",
   "execution_count": 7,
   "metadata": {},
   "outputs": [
    {
     "data": {
      "text/plain": [
       "(6,)"
      ]
     },
     "execution_count": 7,
     "metadata": {},
     "output_type": "execute_result"
    }
   ],
   "source": [
    "a.shape"
   ]
  },
  {
   "cell_type": "code",
   "execution_count": 8,
   "metadata": {},
   "outputs": [],
   "source": [
    "b=a.reshape((3,2))"
   ]
  },
  {
   "cell_type": "code",
   "execution_count": 9,
   "metadata": {},
   "outputs": [
    {
     "data": {
      "text/plain": [
       "array([[0, 1],\n",
       "       [2, 3],\n",
       "       [4, 5]])"
      ]
     },
     "execution_count": 9,
     "metadata": {},
     "output_type": "execute_result"
    }
   ],
   "source": [
    "b"
   ]
  },
  {
   "cell_type": "code",
   "execution_count": 10,
   "metadata": {},
   "outputs": [
    {
     "data": {
      "text/plain": [
       "2"
      ]
     },
     "execution_count": 10,
     "metadata": {},
     "output_type": "execute_result"
    }
   ],
   "source": [
    "b.ndim"
   ]
  },
  {
   "cell_type": "code",
   "execution_count": 11,
   "metadata": {},
   "outputs": [
    {
     "data": {
      "text/plain": [
       "(3, 2)"
      ]
     },
     "execution_count": 11,
     "metadata": {},
     "output_type": "execute_result"
    }
   ],
   "source": [
    "b.shape"
   ]
  },
  {
   "cell_type": "code",
   "execution_count": 12,
   "metadata": {},
   "outputs": [],
   "source": [
    "b[1][0]=77"
   ]
  },
  {
   "cell_type": "code",
   "execution_count": 13,
   "metadata": {},
   "outputs": [
    {
     "data": {
      "text/plain": [
       "array([[ 0,  1],\n",
       "       [77,  3],\n",
       "       [ 4,  5]])"
      ]
     },
     "execution_count": 13,
     "metadata": {},
     "output_type": "execute_result"
    }
   ],
   "source": [
    "b"
   ]
  },
  {
   "cell_type": "code",
   "execution_count": 14,
   "metadata": {},
   "outputs": [
    {
     "data": {
      "text/plain": [
       "array([ 0,  1, 77,  3,  4,  5])"
      ]
     },
     "execution_count": 14,
     "metadata": {},
     "output_type": "execute_result"
    }
   ],
   "source": [
    "a"
   ]
  },
  {
   "cell_type": "code",
   "execution_count": 15,
   "metadata": {},
   "outputs": [],
   "source": [
    "c = a.reshape((3,2)).copy()"
   ]
  },
  {
   "cell_type": "code",
   "execution_count": 16,
   "metadata": {},
   "outputs": [
    {
     "data": {
      "text/plain": [
       "array([[ 0,  1],\n",
       "       [77,  3],\n",
       "       [ 4,  5]])"
      ]
     },
     "execution_count": 16,
     "metadata": {},
     "output_type": "execute_result"
    }
   ],
   "source": [
    "c"
   ]
  },
  {
   "cell_type": "code",
   "execution_count": 17,
   "metadata": {},
   "outputs": [],
   "source": [
    "c[0][0]=-99"
   ]
  },
  {
   "cell_type": "code",
   "execution_count": 18,
   "metadata": {},
   "outputs": [
    {
     "data": {
      "text/plain": [
       "array([[-99,   1],\n",
       "       [ 77,   3],\n",
       "       [  4,   5]])"
      ]
     },
     "execution_count": 18,
     "metadata": {},
     "output_type": "execute_result"
    }
   ],
   "source": [
    "c"
   ]
  },
  {
   "cell_type": "code",
   "execution_count": 19,
   "metadata": {},
   "outputs": [
    {
     "data": {
      "text/plain": [
       "array([ 0,  1, 77,  3,  4,  5])"
      ]
     },
     "execution_count": 19,
     "metadata": {},
     "output_type": "execute_result"
    }
   ],
   "source": [
    "a"
   ]
  },
  {
   "cell_type": "code",
   "execution_count": 20,
   "metadata": {},
   "outputs": [
    {
     "data": {
      "text/plain": [
       "array([[ 0,  1],\n",
       "       [77,  3],\n",
       "       [ 4,  5]])"
      ]
     },
     "execution_count": 20,
     "metadata": {},
     "output_type": "execute_result"
    }
   ],
   "source": [
    "b"
   ]
  },
  {
   "cell_type": "code",
   "execution_count": 21,
   "metadata": {},
   "outputs": [],
   "source": [
    "d=np.array([1,2,3,4,5])"
   ]
  },
  {
   "cell_type": "code",
   "execution_count": 22,
   "metadata": {},
   "outputs": [
    {
     "data": {
      "text/plain": [
       "array([ 2,  4,  6,  8, 10])"
      ]
     },
     "execution_count": 22,
     "metadata": {},
     "output_type": "execute_result"
    }
   ],
   "source": [
    "d*2"
   ]
  },
  {
   "cell_type": "code",
   "execution_count": 23,
   "metadata": {},
   "outputs": [
    {
     "data": {
      "text/plain": [
       "array([ 1,  4,  9, 16, 25])"
      ]
     },
     "execution_count": 23,
     "metadata": {},
     "output_type": "execute_result"
    }
   ],
   "source": [
    "d**2"
   ]
  },
  {
   "cell_type": "code",
   "execution_count": 24,
   "metadata": {},
   "outputs": [
    {
     "data": {
      "text/plain": [
       "[1, 2, 3, 4, 5, 1, 2, 3, 4, 5]"
      ]
     },
     "execution_count": 24,
     "metadata": {},
     "output_type": "execute_result"
    }
   ],
   "source": [
    "[1,2,3,4,5]*2"
   ]
  },
  {
   "cell_type": "code",
   "execution_count": 25,
   "metadata": {},
   "outputs": [
    {
     "ename": "TypeError",
     "evalue": "unsupported operand type(s) for ** or pow(): 'list' and 'int'",
     "output_type": "error",
     "traceback": [
      "\u001b[0;31m---------------------------------------------------------------------------\u001b[0m",
      "\u001b[0;31mTypeError\u001b[0m                                 Traceback (most recent call last)",
      "\u001b[0;32m<ipython-input-25-bdad266e9782>\u001b[0m in \u001b[0;36m<module>\u001b[0;34m()\u001b[0m\n\u001b[0;32m----> 1\u001b[0;31m \u001b[0;34m[\u001b[0m\u001b[0;36m1\u001b[0m\u001b[0;34m,\u001b[0m\u001b[0;36m2\u001b[0m\u001b[0;34m,\u001b[0m\u001b[0;36m3\u001b[0m\u001b[0;34m,\u001b[0m\u001b[0;36m4\u001b[0m\u001b[0;34m,\u001b[0m\u001b[0;36m5\u001b[0m\u001b[0;34m]\u001b[0m\u001b[0;34m**\u001b[0m\u001b[0;36m2\u001b[0m\u001b[0;34m\u001b[0m\u001b[0m\n\u001b[0m",
      "\u001b[0;31mTypeError\u001b[0m: unsupported operand type(s) for ** or pow(): 'list' and 'int'"
     ]
    }
   ],
   "source": [
    "[1,2,3,4,5]**2"
   ]
  },
  {
   "cell_type": "markdown",
   "metadata": {},
   "source": [
    "### Indexing"
   ]
  },
  {
   "cell_type": "code",
   "execution_count": 26,
   "metadata": {},
   "outputs": [
    {
     "data": {
      "text/plain": [
       "array([77,  3,  4])"
      ]
     },
     "execution_count": 26,
     "metadata": {},
     "output_type": "execute_result"
    }
   ],
   "source": [
    "a[np.array([2,3,4])]"
   ]
  },
  {
   "cell_type": "code",
   "execution_count": 27,
   "metadata": {},
   "outputs": [
    {
     "data": {
      "text/plain": [
       "array([False, False,  True, False, False,  True])"
      ]
     },
     "execution_count": 27,
     "metadata": {},
     "output_type": "execute_result"
    }
   ],
   "source": [
    "a>4"
   ]
  },
  {
   "cell_type": "code",
   "execution_count": 28,
   "metadata": {},
   "outputs": [
    {
     "data": {
      "text/plain": [
       "array([77,  5])"
      ]
     },
     "execution_count": 28,
     "metadata": {},
     "output_type": "execute_result"
    }
   ],
   "source": [
    "a[a>4]"
   ]
  },
  {
   "cell_type": "code",
   "execution_count": 29,
   "metadata": {},
   "outputs": [
    {
     "data": {
      "text/plain": [
       "array([ 0,  1, 77,  3,  4,  5])"
      ]
     },
     "execution_count": 29,
     "metadata": {},
     "output_type": "execute_result"
    }
   ],
   "source": [
    "a"
   ]
  },
  {
   "cell_type": "code",
   "execution_count": 30,
   "metadata": {},
   "outputs": [],
   "source": [
    "a[a>4]=4"
   ]
  },
  {
   "cell_type": "code",
   "execution_count": 31,
   "metadata": {},
   "outputs": [
    {
     "data": {
      "text/plain": [
       "array([0, 1, 4, 3, 4, 4])"
      ]
     },
     "execution_count": 31,
     "metadata": {},
     "output_type": "execute_result"
    }
   ],
   "source": [
    "a"
   ]
  },
  {
   "cell_type": "code",
   "execution_count": 32,
   "metadata": {},
   "outputs": [
    {
     "data": {
      "text/plain": [
       "array([0, 1, 4, 3, 4, 4])"
      ]
     },
     "execution_count": 32,
     "metadata": {},
     "output_type": "execute_result"
    }
   ],
   "source": [
    "a.clip(0,4)"
   ]
  },
  {
   "cell_type": "code",
   "execution_count": 33,
   "metadata": {},
   "outputs": [
    {
     "data": {
      "text/plain": [
       "array([1, 1, 3, 3, 3, 3])"
      ]
     },
     "execution_count": 33,
     "metadata": {},
     "output_type": "execute_result"
    }
   ],
   "source": [
    "a.clip(1,3)"
   ]
  },
  {
   "cell_type": "code",
   "execution_count": 34,
   "metadata": {},
   "outputs": [
    {
     "data": {
      "text/plain": [
       "array([0, 1, 4, 3, 4, 4])"
      ]
     },
     "execution_count": 34,
     "metadata": {},
     "output_type": "execute_result"
    }
   ],
   "source": [
    "a.clip(0,4)"
   ]
  },
  {
   "cell_type": "code",
   "execution_count": 35,
   "metadata": {},
   "outputs": [
    {
     "data": {
      "text/plain": [
       "array([0, 1, 3, 3, 3, 3])"
      ]
     },
     "execution_count": 35,
     "metadata": {},
     "output_type": "execute_result"
    }
   ],
   "source": [
    "a.clip(0,3)"
   ]
  },
  {
   "cell_type": "markdown",
   "metadata": {},
   "source": [
    "### Handling nonexisting values"
   ]
  },
  {
   "cell_type": "code",
   "execution_count": 36,
   "metadata": {},
   "outputs": [],
   "source": [
    "c = np.array([1, 2, np.NAN, 3, 4]) # let's pretend we have read this from a text file"
   ]
  },
  {
   "cell_type": "code",
   "execution_count": 37,
   "metadata": {},
   "outputs": [
    {
     "data": {
      "text/plain": [
       "array([ 1.,  2., nan,  3.,  4.])"
      ]
     },
     "execution_count": 37,
     "metadata": {},
     "output_type": "execute_result"
    }
   ],
   "source": [
    "c"
   ]
  },
  {
   "cell_type": "code",
   "execution_count": 38,
   "metadata": {},
   "outputs": [
    {
     "data": {
      "text/plain": [
       "array([False, False,  True, False, False])"
      ]
     },
     "execution_count": 38,
     "metadata": {},
     "output_type": "execute_result"
    }
   ],
   "source": [
    "np.isnan(c)"
   ]
  },
  {
   "cell_type": "code",
   "execution_count": 39,
   "metadata": {},
   "outputs": [
    {
     "data": {
      "text/plain": [
       "array([1., 2., 3., 4.])"
      ]
     },
     "execution_count": 39,
     "metadata": {},
     "output_type": "execute_result"
    }
   ],
   "source": [
    "c[~np.isnan(c)]"
   ]
  },
  {
   "cell_type": "code",
   "execution_count": 40,
   "metadata": {},
   "outputs": [
    {
     "data": {
      "text/plain": [
       "2.5"
      ]
     },
     "execution_count": 40,
     "metadata": {},
     "output_type": "execute_result"
    }
   ],
   "source": [
    "np.mean(c[~np.isnan(c)])"
   ]
  },
  {
   "cell_type": "markdown",
   "metadata": {},
   "source": [
    "### Comparing the runtime"
   ]
  },
  {
   "cell_type": "code",
   "execution_count": 41,
   "metadata": {},
   "outputs": [],
   "source": [
    "import timeit\n",
    "normal_py_sec=timeit.timeit('sum(x*x for x in range(1000))',number=10000)"
   ]
  },
  {
   "cell_type": "code",
   "execution_count": 42,
   "metadata": {},
   "outputs": [],
   "source": [
    "naive_np_sec = timeit.timeit('sum(na*na)',setup=\"import numpy as np; na=np.arange(1000)\",\n",
    "number=10000)"
   ]
  },
  {
   "cell_type": "code",
   "execution_count": 43,
   "metadata": {},
   "outputs": [],
   "source": [
    "good_np_sec = timeit.timeit('na.dot(na)',setup=\"import numpy as np; na=np.arange(1000)\",\n",
    "number=10000)"
   ]
  },
  {
   "cell_type": "code",
   "execution_count": 44,
   "metadata": {},
   "outputs": [
    {
     "name": "stdout",
     "output_type": "stream",
     "text": [
      "Normal Python: 0.644951 sec\n",
      "Naive NumPy: 0.837327 sec\n",
      "Good NumPy: 0.021802 sec\n"
     ]
    }
   ],
   "source": [
    "print(\"Normal Python: %f sec\" % normal_py_sec)\n",
    "print(\"Naive NumPy: %f sec\" % naive_np_sec)\n",
    "print(\"Good NumPy: %f sec\" % good_np_sec)"
   ]
  },
  {
   "cell_type": "code",
   "execution_count": 45,
   "metadata": {},
   "outputs": [],
   "source": [
    "a = np.array([1,2,3])"
   ]
  },
  {
   "cell_type": "code",
   "execution_count": 46,
   "metadata": {},
   "outputs": [
    {
     "data": {
      "text/plain": [
       "dtype('int64')"
      ]
     },
     "execution_count": 46,
     "metadata": {},
     "output_type": "execute_result"
    }
   ],
   "source": [
    "a.dtype"
   ]
  },
  {
   "cell_type": "code",
   "execution_count": 47,
   "metadata": {},
   "outputs": [
    {
     "data": {
      "text/plain": [
       "array(['1', 'stringy'], dtype='<U21')"
      ]
     },
     "execution_count": 47,
     "metadata": {},
     "output_type": "execute_result"
    }
   ],
   "source": [
    "np.array([1, \"stringy\"])"
   ]
  },
  {
   "cell_type": "code",
   "execution_count": 48,
   "metadata": {},
   "outputs": [
    {
     "data": {
      "text/plain": [
       "array([1, 'stringy', {1, 2, 3}], dtype=object)"
      ]
     },
     "execution_count": 48,
     "metadata": {},
     "output_type": "execute_result"
    }
   ],
   "source": [
    "np.array([1, \"stringy\", set([1,2,3])])"
   ]
  },
  {
   "cell_type": "markdown",
   "metadata": {},
   "source": [
    "### Learning SciPy"
   ]
  },
  {
   "cell_type": "code",
   "execution_count": 49,
   "metadata": {},
   "outputs": [],
   "source": [
    "import scipy, numpy"
   ]
  },
  {
   "cell_type": "code",
   "execution_count": 50,
   "metadata": {},
   "outputs": [
    {
     "data": {
      "text/plain": [
       "'1.1.0'"
      ]
     },
     "execution_count": 50,
     "metadata": {},
     "output_type": "execute_result"
    }
   ],
   "source": [
    "scipy.version.full_version"
   ]
  },
  {
   "cell_type": "code",
   "execution_count": 51,
   "metadata": {},
   "outputs": [
    {
     "data": {
      "text/plain": [
       "True"
      ]
     },
     "execution_count": 51,
     "metadata": {},
     "output_type": "execute_result"
    }
   ],
   "source": [
    "scipy.dot is numpy.dot"
   ]
  },
  {
   "cell_type": "markdown",
   "metadata": {},
   "source": [
    "### Our first (tiny) application of machine learning"
   ]
  },
  {
   "cell_type": "markdown",
   "metadata": {},
   "source": [
    "### Reading in the data"
   ]
  },
  {
   "cell_type": "code",
   "execution_count": 53,
   "metadata": {},
   "outputs": [],
   "source": [
    "import scipy as sp\n",
    "data = sp.genfromtxt(\"web_traffic.tsv\", delimiter=\"\\t\")"
   ]
  },
  {
   "cell_type": "code",
   "execution_count": 54,
   "metadata": {},
   "outputs": [
    {
     "name": "stdout",
     "output_type": "stream",
     "text": [
      "[[1.000e+00 2.272e+03]\n",
      " [2.000e+00       nan]\n",
      " [3.000e+00 1.386e+03]\n",
      " [4.000e+00 1.365e+03]\n",
      " [5.000e+00 1.488e+03]\n",
      " [6.000e+00 1.337e+03]\n",
      " [7.000e+00 1.883e+03]\n",
      " [8.000e+00 2.283e+03]\n",
      " [9.000e+00 1.335e+03]\n",
      " [1.000e+01 1.025e+03]]\n"
     ]
    }
   ],
   "source": [
    "print(data[:10])"
   ]
  },
  {
   "cell_type": "code",
   "execution_count": 55,
   "metadata": {},
   "outputs": [
    {
     "name": "stdout",
     "output_type": "stream",
     "text": [
      "(743, 2)\n"
     ]
    }
   ],
   "source": [
    "print(data.shape)"
   ]
  },
  {
   "cell_type": "markdown",
   "metadata": {},
   "source": [
    "### Preprocessing and cleaning the data"
   ]
  },
  {
   "cell_type": "code",
   "execution_count": 56,
   "metadata": {},
   "outputs": [],
   "source": [
    "x = data[:,0]"
   ]
  },
  {
   "cell_type": "code",
   "execution_count": 57,
   "metadata": {},
   "outputs": [],
   "source": [
    "y = data[:,1]"
   ]
  },
  {
   "cell_type": "code",
   "execution_count": 58,
   "metadata": {},
   "outputs": [
    {
     "data": {
      "text/plain": [
       "8"
      ]
     },
     "execution_count": 58,
     "metadata": {},
     "output_type": "execute_result"
    }
   ],
   "source": [
    "sp.sum(sp.isnan(y))"
   ]
  },
  {
   "cell_type": "code",
   "execution_count": 59,
   "metadata": {},
   "outputs": [],
   "source": [
    "x = x[~sp.isnan(y)]"
   ]
  },
  {
   "cell_type": "code",
   "execution_count": 60,
   "metadata": {},
   "outputs": [],
   "source": [
    "y = y[~sp.isnan(y)]"
   ]
  },
  {
   "cell_type": "code",
   "execution_count": 65,
   "metadata": {},
   "outputs": [
    {
     "data": {
      "image/png": "[encoded data removed]",
      "text/plain": [
       "<Figure size 432x288 with 1 Axes>"
      ]
     },
     "metadata": {
      "needs_background": "light"
     },
     "output_type": "display_data"
    }
   ],
   "source": [
    "import matplotlib.pyplot as plt\n",
    "# plot the (x,y) points with dots of size 10\n",
    "plt.scatter(x, y, s=10)\n",
    "plt.title(\"Web traffic over the last month\")\n",
    "plt.xlabel(\"Time\")\n",
    "plt.ylabel(\"Hits/hour\")\n",
    "plt.xticks([w*7*24 for w in range(10)],['week %i' % w for w in range(10)])\n",
    "plt.autoscale(tight=True)\n",
    "# draw a slightly opaque, dashed grid\n",
    "plt.grid(True, linestyle='-', color='0.75')\n",
    "plt.show()"
   ]
  },
  {
   "cell_type": "markdown",
   "metadata": {},
   "source": [
    "## Choosing the right model and learning algorithm"
   ]
  },
  {
   "cell_type": "markdown",
   "metadata": {},
   "source": [
    "### Before building our first model..."
   ]
  },
  {
   "cell_type": "code",
   "execution_count": 68,
   "metadata": {},
   "outputs": [],
   "source": [
    "def error(f, x, y):\n",
    "    return sp.sum((f(x)-y)**2)"
   ]
  },
  {
   "cell_type": "markdown",
   "metadata": {},
   "source": [
    "### Starting with a simple straight line"
   ]
  },
  {
   "cell_type": "code",
   "execution_count": 69,
   "metadata": {},
   "outputs": [],
   "source": [
    "fp1, residuals, rank, sv, rcond = sp.polyfit(x, y, 1, full=True)"
   ]
  },
  {
   "cell_type": "code",
   "execution_count": 70,
   "metadata": {},
   "outputs": [
    {
     "name": "stdout",
     "output_type": "stream",
     "text": [
      "Model parameters: [  2.59619213 989.02487106]\n"
     ]
    }
   ],
   "source": [
    "print(\"Model parameters: %s\" % fp1)"
   ]
  },
  {
   "cell_type": "code",
   "execution_count": 71,
   "metadata": {},
   "outputs": [
    {
     "name": "stdout",
     "output_type": "stream",
     "text": [
      "[3.17389767e+08]\n"
     ]
    }
   ],
   "source": [
    "print(residuals)"
   ]
  },
  {
   "cell_type": "code",
   "execution_count": 72,
   "metadata": {},
   "outputs": [],
   "source": [
    "f1 = sp.poly1d(fp1)"
   ]
  },
  {
   "cell_type": "code",
   "execution_count": 73,
   "metadata": {},
   "outputs": [
    {
     "name": "stdout",
     "output_type": "stream",
     "text": [
      "317389767.339778\n"
     ]
    }
   ],
   "source": [
    "print(error(f1, x, y))"
   ]
  },
  {
   "cell_type": "code",
   "execution_count": 80,
   "metadata": {},
   "outputs": [
    {
     "data": {
      "image/png": "[encoded data removed]",
      "text/plain": [
       "<Figure size 432x288 with 1 Axes>"
      ]
     },
     "metadata": {
      "needs_background": "light"
     },
     "output_type": "display_data"
    }
   ],
   "source": [
    "fx = sp.linspace(0,x[-1], 1000) # generate X-values for plotting\n",
    "plt.plot(fx, f1(fx), linewidth=4)\n",
    "plt.legend([\"d=%i\" % f1.order], loc=\"upper left\")\n",
    "plt.scatter(x, y, s=10)\n",
    "plt.title(\"Web traffic over the last month\")\n",
    "plt.xlabel(\"Time\")\n",
    "plt.ylabel(\"Hits/hour\")\n",
    "plt.xticks([w*7*24 for w in range(10)],['week %i' % w for w in range(10)])\n",
    "plt.autoscale(tight=True)\n",
    "# draw a slightly opaque, dashed grid\n",
    "plt.grid(True, linestyle='-', color='0.75')\n",
    "plt.show()"
   ]
  },
  {
   "cell_type": "markdown",
   "metadata": {},
   "source": [
    "### Towards some advanced stuff"
   ]
  },
  {
   "cell_type": "code",
   "execution_count": 77,
   "metadata": {},
   "outputs": [
    {
     "name": "stdout",
     "output_type": "stream",
     "text": [
      "[ 1.05322215e-02 -5.26545650e+00  1.97476082e+03]\n"
     ]
    }
   ],
   "source": [
    "f2p = sp.polyfit(x, y, 2)\n",
    "print(f2p)"
   ]
  },
  {
   "cell_type": "code",
   "execution_count": 78,
   "metadata": {},
   "outputs": [],
   "source": [
    "f2 = sp.poly1d(f2p)"
   ]
  },
  {
   "cell_type": "code",
   "execution_count": 79,
   "metadata": {},
   "outputs": [
    {
     "name": "stdout",
     "output_type": "stream",
     "text": [
      "179983507.8781792\n"
     ]
    }
   ],
   "source": [
    "print(error(f2, x, y))"
   ]
  },
  {
   "cell_type": "code",
   "execution_count": 114,
   "metadata": {},
   "outputs": [
    {
     "data": {
      "image/png": "[encoded data removed]",
      "text/plain": [
       "<Figure size 432x288 with 1 Axes>"
      ]
     },
     "metadata": {
      "needs_background": "light"
     },
     "output_type": "display_data"
    }
   ],
   "source": [
    "fx = sp.linspace(0,x[-1], 1000) # generate X-values for plotting\n",
    "plt.plot(fx, f1(fx), linewidth=4)\n",
    "plt.plot(f2x, f2(fx), '--',linewidth=4)\n",
    "plt.legend([\"d=%i\" % f1.order,\"d=%i\" % f2.order], loc=\"upper left\")\n",
    "plt.scatter(x, y, s=10)\n",
    "plt.title(\"Web traffic over the last month\")\n",
    "plt.xlabel(\"Time\")\n",
    "plt.ylabel(\"Hits/hour\")\n",
    "plt.xticks([w*7*24 for w in range(10)],['week %i' % w for w in range(10)])\n",
    "plt.autoscale(tight=True)\n",
    "# draw a slightly opaque, dashed grid\n",
    "plt.grid(True, linestyle='-', color='0.75')\n",
    "\n",
    "plt.show()"
   ]
  },
  {
   "cell_type": "code",
   "execution_count": 116,
   "metadata": {},
   "outputs": [
    {
     "name": "stderr",
     "output_type": "stream",
     "text": [
      "/home/ayush/anaconda3/lib/python3.6/site-packages/ipykernel_launcher.py:5: RankWarning: Polyfit may be poorly conditioned\n",
      "  \"\"\"\n"
     ]
    },
    {
     "data": {
      "image/png": "[encoded data removed]",
      "text/plain": [
       "<Figure size 432x288 with 1 Axes>"
      ]
     },
     "metadata": {
      "needs_background": "light"
     },
     "output_type": "display_data"
    }
   ],
   "source": [
    "f3p = sp.polyfit(x, y, 3)\n",
    "f3 = sp.poly1d(f3p)\n",
    "f10p = sp.polyfit(x, y, 10)\n",
    "f10 = sp.poly1d(f10p)\n",
    "f53p = sp.polyfit(x, y, 53)\n",
    "f53 = sp.poly1d(f53p)\n",
    "\n",
    "fx = sp.linspace(0,x[-1], 1000) # generate X-values for plotting\n",
    "plt.plot(fx, f1(fx), linewidth=4)\n",
    "\n",
    "\n",
    "plt.plot(fx, f2(fx),linewidth=4)\n",
    "\n",
    "\n",
    "plt.plot(fx, f3(fx), linewidth=4)\n",
    "\n",
    "plt.plot(fx, f10(fx),linewidth=4)\n",
    "\n",
    "\n",
    "plt.plot(fx, f53(fx), linewidth=4)\n",
    "\n",
    "plt.legend([\"d=%i\" % f1.order,\"d=%i\" % f2.order,\"d=%i\" % f3.order,\"d=%i\" % f10.order,\"d=%i\" % f53.order], loc=\"upper left\")\n",
    "plt.scatter(x, y, s=10)\n",
    "plt.title(\"Web traffic over the last month\")\n",
    "plt.xlabel(\"Time\")\n",
    "plt.ylabel(\"Hits/hour\")\n",
    "plt.xticks([w*7*24 for w in range(10)],['week %i' % w for w in range(10)])\n",
    "plt.autoscale(tight=True)\n",
    "# draw a slightly opaque, dashed grid\n",
    "plt.grid(True, linestyle='-', color='0.75')\n",
    "\n",
    "plt.show()\n"
   ]
  },
  {
   "cell_type": "code",
   "execution_count": 100,
   "metadata": {},
   "outputs": [
    {
     "name": "stdout",
     "output_type": "stream",
     "text": [
      "Error d=1: 317389767.339778\n",
      "Error d=2: 179983507.878179\n",
      "Error d=3: 139350144.031725\n",
      "Error d=10: 121942326.363474\n",
      "Error d=53: 109452397.771183\n"
     ]
    }
   ],
   "source": [
    "print(\"Error d=%i: %f\" %(f1.order,error(f1, x, y)))\n",
    "print(\"Error d=%i: %f\" %(f2.order,error(f2, x, y)))\n",
    "print(\"Error d=%i: %f\" %(f3.order,error(f3, x, y)))\n",
    "print(\"Error d=%i: %f\" %(f10.order,error(f10, x, y)))\n",
    "print(\"Error d=%i: %f\" %(f53.order,error(f53, x, y)))"
   ]
  },
  {
   "cell_type": "markdown",
   "metadata": {},
   "source": [
    "### Stepping back to go forward – another look at our data"
   ]
  },
  {
   "cell_type": "code",
   "execution_count": 126,
   "metadata": {},
   "outputs": [
    {
     "name": "stdout",
     "output_type": "stream",
     "text": [
      "Error inflection=132950348.197616\n"
     ]
    }
   ],
   "source": [
    "inf = 3.5*7*24 # calculate the inflection point in hours\n",
    "inflection=int(inf)\n",
    "xa = x[:inflection] # data before the inflection point\n",
    "ya = y[:inflection]\n",
    "xb = x[inflection:] # data after\n",
    "yb = y[inflection:]\n",
    "fa = sp.poly1d(sp.polyfit(xa, ya, 1))\n",
    "fb = sp.poly1d(sp.polyfit(xb, yb, 1))\n",
    "fa_error = error(fa, xa, ya)\n",
    "fb_error = error(fb, xb, yb)\n",
    "print(\"Error inflection=%f\" % (fa_error + fb_error))"
   ]
  },
  {
   "cell_type": "code",
   "execution_count": 128,
   "metadata": {},
   "outputs": [
    {
     "data": {
      "text/plain": [
       "<matplotlib.legend.Legend at 0x7fda97218fd0>"
      ]
     },
     "execution_count": 128,
     "metadata": {},
     "output_type": "execute_result"
    },
    {
     "data": {
      "image/png": "[encoded data removed]",
      "text/plain": [
       "<Figure size 432x288 with 1 Axes>"
      ]
     },
     "metadata": {
      "needs_background": "light"
     },
     "output_type": "display_data"
    }
   ],
   "source": [
    "plt.scatter(x, y, s=10)\n",
    "plt.title(\"Web traffic over the last month\")\n",
    "plt.xlabel(\"Time\")\n",
    "plt.ylabel(\"Hits/hour\")\n",
    "plt.ylim(ymin=0)\n",
    "plt.xticks([w*7*24 for w in range(10)],['week %i' % w for w in range(10)])\n",
    "plt.autoscale(tight=True)\n",
    "plt.ylim(ymin=0)\n",
    "plt.grid(True, linestyle='-', color='0.75')\n",
    "plt.plot(fx, fa(fx), linewidth=4)\n",
    "plt.plot(fx, fb(fx) ,':',color='k' ,linewidth=4)\n",
    "plt.legend([\"d=%i\" % fa.order,\"d=%i\" % fb.order], loc=\"upper left\")"
   ]
  },
  {
   "cell_type": "code",
   "execution_count": 136,
   "metadata": {},
   "outputs": [
    {
     "name": "stderr",
     "output_type": "stream",
     "text": [
      "/home/ayush/anaconda3/lib/python3.6/site-packages/ipykernel_launcher.py:4: RankWarning: Polyfit may be poorly conditioned\n",
      "  after removing the cwd from sys.path.\n"
     ]
    },
    {
     "data": {
      "text/plain": [
       "<matplotlib.legend.Legend at 0x7fdaa68cea90>"
      ]
     },
     "execution_count": 136,
     "metadata": {},
     "output_type": "execute_result"
    },
    {
     "data": {
      "image/png": "[encoded data removed]",
      "text/plain": [
       "<Figure size 432x288 with 1 Axes>"
      ]
     },
     "metadata": {
      "needs_background": "light"
     },
     "output_type": "display_data"
    }
   ],
   "source": [
    "fa2 = sp.poly1d(sp.polyfit(xa, ya, 2))\n",
    "fa3 = sp.poly1d(sp.polyfit(xa, ya, 3))\n",
    "fa10 = sp.poly1d(sp.polyfit(xa, ya, 10))\n",
    "fa53 = sp.poly1d(sp.polyfit(xa, ya, 53))\n",
    "plt.scatter(x, y, s=10)\n",
    "plt.title(\"Web traffic over the last month\")\n",
    "plt.xlabel(\"Time\")\n",
    "plt.ylabel(\"Hits/hour\")\n",
    "plt.ylim(ymin=0)\n",
    "plt.xticks([w*7*24 for w in range(10)],['week %i' % w for w in range(10)])\n",
    "plt.autoscale(tight=True)\n",
    "plt.ylim(ymin=0)\n",
    "plt.grid(True, linestyle='-', color='0.75')\n",
    "plt.plot(fx, fa(fx), linewidth=4)\n",
    "plt.plot(fx, fa2(fx),'c', linewidth=2)\n",
    "plt.plot(fx, fa3(fx),'y', linewidth=2)\n",
    "plt.plot(fx, fa10(fx),'m', linewidth=2)\n",
    "plt.plot(fx, fa53(fx),color='k' ,linewidth=2)\n",
    "plt.legend([\"d=%i\" % fa.order,\"d=%i\" % fa2.order,\"d=%i\" % fa3.order,\"d=%i\" % fa10.order,\"d=%i\" % fa53.order], loc=\"upper left\")"
   ]
  },
  {
   "cell_type": "code",
   "execution_count": null,
   "metadata": {},
   "outputs": [],
   "source": []
  },
  {
   "cell_type": "markdown",
   "metadata": {},
   "source": [
    "### Training and testing"
   ]
  },
  {
   "cell_type": "markdown",
   "metadata": {},
   "source": [
    "### Answering our initial question"
   ]
  },
  {
   "cell_type": "code",
   "execution_count": null,
   "metadata": {},
   "outputs": [],
   "source": []
  },
  {
   "cell_type": "code",
   "execution_count": 137,
   "metadata": {},
   "outputs": [
    {
     "name": "stdout",
     "output_type": "stream",
     "text": [
      "Test errors for only the time after inflection point\n",
      "Error d=1: 6633920.649830\n",
      "Error d=2: 5638065.248584\n",
      "Error d=3: 5683580.553840\n",
      "Error d=10: 5487391.975058\n",
      "Error d=53: 5297864.703535\n"
     ]
    },
    {
     "name": "stderr",
     "output_type": "stream",
     "text": [
      "/home/ayush/anaconda3/lib/python3.6/site-packages/ipykernel_launcher.py:9: RankWarning: Polyfit may be poorly conditioned\n",
      "  if __name__ == '__main__':\n",
      "/home/ayush/anaconda3/lib/python3.6/site-packages/ipykernel_launcher.py:10: RankWarning: Polyfit may be poorly conditioned\n",
      "  # Remove the CWD from sys.path while we load stuff.\n"
     ]
    }
   ],
   "source": [
    "frac = 0.3\n",
    "split_idx = int(frac * len(xb))\n",
    "shuffled = sp.random.permutation(list(range(len(xb))))\n",
    "test = sorted(shuffled[:split_idx])\n",
    "train = sorted(shuffled[split_idx:])\n",
    "fbt1 = sp.poly1d(sp.polyfit(xb[train], yb[train], 1))\n",
    "fbt2 = sp.poly1d(sp.polyfit(xb[train], yb[train], 2))\n",
    "fbt3 = sp.poly1d(sp.polyfit(xb[train], yb[train], 3))\n",
    "fbt10 = sp.poly1d(sp.polyfit(xb[train], yb[train], 10))\n",
    "fbt53 = sp.poly1d(sp.polyfit(xb[train], yb[train], 53))\n",
    "print(\"Test errors for only the time after inflection point\")\n",
    "for f in [fbt1, fbt2, fbt3, fbt10, fbt100]:\n",
    " print(\"Error d=%i: %f\" % (f.order, error(f, xb[test], yb[test])))"
   ]
  },
  {
   "cell_type": "code",
   "execution_count": 139,
   "metadata": {},
   "outputs": [
    {
     "data": {
      "text/plain": [
       "<matplotlib.legend.Legend at 0x7fdaa57c0668>"
      ]
     },
     "execution_count": 139,
     "metadata": {},
     "output_type": "execute_result"
    },
    {
     "data": {
      "image/png": "[encoded data removed]",
      "text/plain": [
       "<Figure size 432x288 with 1 Axes>"
      ]
     },
     "metadata": {
      "needs_background": "light"
     },
     "output_type": "display_data"
    }
   ],
   "source": [
    "plt.scatter(x, y, s=10)\n",
    "plt.title(\"Web traffic over the last month\")\n",
    "plt.xlabel(\"Time\")\n",
    "plt.ylabel(\"Hits/hour\")\n",
    "plt.ylim(ymin=0)\n",
    "plt.xticks([w*7*24 for w in range(10)],['week %i' % w for w in range(10)])\n",
    "plt.autoscale(tight=True)\n",
    "plt.ylim(ymin=0)\n",
    "plt.grid(True, linestyle='-', color='0.75')\n",
    "plt.plot(fx,fbt1(fx), linewidth=4)\n",
    "plt.plot(fx, fbt2(fx),'c', linewidth=2)\n",
    "plt.plot(fx, fbt3(fx),'y', linewidth=2)\n",
    "plt.plot(fx, fbt10(fx),'m', linewidth=2)\n",
    "plt.plot(fx,fbt53(fx),color='k' ,linewidth=2)\n",
    "plt.legend([\"d=%i\" % fbt1.order,\"d=%i\" % fbt2.order,\"d=%i\" % fbt3.order,\"d=%i\" % fbt10.order,\"d=%i\" % fbt53.order], loc=\"upper left\")"
   ]
  },
  {
   "cell_type": "code",
   "execution_count": 123,
   "metadata": {},
   "outputs": [
    {
     "name": "stdout",
     "output_type": "stream",
     "text": [
      "fbt2(x)= \n",
      "         2\n",
      "0.06473 x - 64.69 x + 1.739e+04\n"
     ]
    }
   ],
   "source": [
    "fbt2 = sp.poly1d(sp.polyfit(xb[train], yb[train], 2))\n",
    "print(\"fbt2(x)= \\n%s\" % fbt2)"
   ]
  },
  {
   "cell_type": "code",
   "execution_count": 124,
   "metadata": {},
   "outputs": [
    {
     "name": "stdout",
     "output_type": "stream",
     "text": [
      "fbt2(x)-100,000= \n",
      "         2\n",
      "0.06473 x - 64.69 x - 8.261e+04\n"
     ]
    }
   ],
   "source": [
    "print(\"fbt2(x)-100,000= \\n%s\" % (fbt2-100000))"
   ]
  },
  {
   "cell_type": "code",
   "execution_count": 125,
   "metadata": {},
   "outputs": [
    {
     "name": "stdout",
     "output_type": "stream",
     "text": [
      "100,000 hits/hour expected at week 10.326407\n"
     ]
    }
   ],
   "source": [
    "from scipy.optimize import fsolve\n",
    "reached_max = fsolve(fbt2-100000, x0=800)/(7*24)\n",
    "print(\"100,000 hits/hour expected at week %f\" % reached_max[0])"
   ]
  },
  {
   "cell_type": "code",
   "execution_count": null,
   "metadata": {},
   "outputs": [],
   "source": []
  }
 ],
 "metadata": {
  "celltoolbar": "Raw Cell Format",
  "kernelspec": {
   "display_name": "Python 3",
   "language": "python",
   "name": "python3"
  },
  "language_info": {
   "codemirror_mode": {
    "name": "ipython",
    "version": 3
   },
   "file_extension": ".py",
   "mimetype": "text/x-python",
   "name": "python",
   "nbconvert_exporter": "python",
   "pygments_lexer": "ipython3",
   "version": "3.7.0"
  }
 },
 "nbformat": 4,
 "nbformat_minor": 2
}
